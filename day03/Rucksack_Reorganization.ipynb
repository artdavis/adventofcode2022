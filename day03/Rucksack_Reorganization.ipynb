{
 "cells": [
  {
   "cell_type": "markdown",
   "metadata": {},
   "source": [
    "# Day 3: Rucksack Reorganization\n",
    "https://adventofcode.com/2022/day/3\n",
    "\n",
    "## Part 1\n",
    "\n",
    "Find the item type that appears in both compartments of each rucksack.\n",
    "**What is the sum of the priorities of those item types?**"
   ]
  },
  {
   "cell_type": "code",
   "execution_count": 1,
   "metadata": {},
   "outputs": [],
   "source": [
    "%qtconsole"
   ]
  },
  {
   "cell_type": "code",
   "execution_count": 2,
   "metadata": {
    "ExecuteTime": {
     "end_time": "2021-12-01T13:35:02.320616Z",
     "start_time": "2021-12-01T13:35:01.787920Z"
    }
   },
   "outputs": [],
   "source": [
    "import numpy as np\n",
    "from IPython.display import Markdown"
   ]
  },
  {
   "cell_type": "code",
   "execution_count": 38,
   "metadata": {
    "ExecuteTime": {
     "end_time": "2021-12-01T13:35:02.351863Z",
     "start_time": "2021-12-01T13:35:02.320616Z"
    }
   },
   "outputs": [],
   "source": [
    "alphas = 'abcdefghijklmnopqrstuvwxyzABCDEFGHIJKLMNOPQRSTUVWXYZ'\n",
    "priorities = dict(zip(alphas, range(1, 53)))\n",
    "\n",
    "# Priority sum\n",
    "psum = 0\n",
    "with open('input.txt', 'r') as fid:\n",
    "#with open('testinput.txt', 'r') as fid:\n",
    "    for line in fid:\n",
    "        stuff = line.strip()\n",
    "        # Split stuff into compartments\n",
    "        c1 = stuff[:len(stuff)//2]\n",
    "        c2 = stuff[len(stuff)//2:]\n",
    "        # Find shared items in both compartments\n",
    "        shared = set(c1) & set(c2)\n",
    "        # Priority value of shared item\n",
    "        pval = priorities[shared.pop()]\n",
    "        psum += pval"
   ]
  },
  {
   "cell_type": "code",
   "execution_count": 53,
   "metadata": {
    "ExecuteTime": {
     "end_time": "2021-12-01T13:35:02.389653Z",
     "start_time": "2021-12-01T13:35:02.351863Z"
    }
   },
   "outputs": [],
   "source": [
    "#display(Markdown(\"The sum of priorities of the shared items is **{}**.\".format(psum)))"
   ]
  },
  {
   "cell_type": "markdown",
   "metadata": {},
   "source": [
    "## Part Two\n",
    "\n",
    "Find the item type that corresponds to the badges of each three-Elf group.\n",
    "**What is the sum of the priorities of those item types?**"
   ]
  },
  {
   "cell_type": "code",
   "execution_count": 51,
   "metadata": {},
   "outputs": [],
   "source": [
    "i = 0\n",
    "elf = None\n",
    "psum2 = 0\n",
    "with open('input.txt', 'r') as fid:\n",
    "#with open('testinput.txt', 'r') as fid:\n",
    "    for line in fid:\n",
    "        if elf is None:\n",
    "            elf = set(line.strip())\n",
    "        else:\n",
    "            elf &= set(line.strip())\n",
    "        i += 1\n",
    "        if 0 == i % 3:\n",
    "            psum2 += priorities[elf.pop()]\n",
    "            elf = None"
   ]
  },
  {
   "cell_type": "code",
   "execution_count": 54,
   "metadata": {
    "ExecuteTime": {
     "end_time": "2021-12-01T13:35:02.389653Z",
     "start_time": "2021-12-01T13:35:02.351863Z"
    }
   },
   "outputs": [],
   "source": [
    "#display(Markdown(\"The sum of priorities of the shared items is **{}**.\".format(psum2)))"
   ]
  },
  {
   "cell_type": "code",
   "execution_count": null,
   "metadata": {},
   "outputs": [],
   "source": []
  }
 ],
 "metadata": {
  "kernelspec": {
   "display_name": "Python 3 (ipykernel)",
   "language": "python",
   "name": "python3"
  },
  "language_info": {
   "codemirror_mode": {
    "name": "ipython",
    "version": 3
   },
   "file_extension": ".py",
   "mimetype": "text/x-python",
   "name": "python",
   "nbconvert_exporter": "python",
   "pygments_lexer": "ipython3",
   "version": "3.9.13"
  },
  "toc": {
   "base_numbering": 1,
   "nav_menu": {},
   "number_sections": true,
   "sideBar": true,
   "skip_h1_title": false,
   "title_cell": "Table of Contents",
   "title_sidebar": "Contents",
   "toc_cell": false,
   "toc_position": {},
   "toc_section_display": true,
   "toc_window_display": false
  }
 },
 "nbformat": 4,
 "nbformat_minor": 4
}
