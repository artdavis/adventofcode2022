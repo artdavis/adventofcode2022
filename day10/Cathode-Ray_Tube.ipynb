{
 "cells": [
  {
   "cell_type": "markdown",
   "metadata": {},
   "source": [
    "# Day 10: Cathode-Ray Tube\n",
    "https://adventofcode.com/2022/day/10\n",
    "\n",
    "## Part 1\n",
    "\n",
    "Find the signal strength during the 20th, 60th, 100th, 140th, 180th, and 220th cycles.\n",
    "**What is the sum of these six signal strengths?**"
   ]
  },
  {
   "cell_type": "code",
   "execution_count": 1,
   "metadata": {},
   "outputs": [],
   "source": [
    "#%qtconsole"
   ]
  },
  {
   "cell_type": "code",
   "execution_count": 2,
   "metadata": {
    "ExecuteTime": {
     "end_time": "2021-12-01T13:35:02.320616Z",
     "start_time": "2021-12-01T13:35:01.787920Z"
    }
   },
   "outputs": [],
   "source": [
    "#import numpy as np\n",
    "from IPython.display import Markdown"
   ]
  },
  {
   "cell_type": "code",
   "execution_count": 22,
   "metadata": {
    "ExecuteTime": {
     "end_time": "2021-12-01T13:35:02.351863Z",
     "start_time": "2021-12-01T13:35:02.320616Z"
    }
   },
   "outputs": [],
   "source": [
    "infile = 'input.txt'\n",
    "#infile = 'testinput.txt'\n",
    "#infile = 'testinput0.txt'\n",
    "\n",
    "# Capture info fo the following cycles:\n",
    "cycap = {20, 60, 100, 140, 180, 220}\n",
    "\n",
    "x = 1\n",
    "cytrack = dict()\n",
    "siglog = list()\n",
    "#linetrack = dict()\n",
    "cyc = 1\n",
    "\n",
    "linecount = 1\n",
    "with open(infile, 'r') as fid:\n",
    "    for line in fid:\n",
    "        cmd = line.strip()\n",
    "        if 'noop' == cmd:\n",
    "            cyc += 1\n",
    "            if cyc in cycap:\n",
    "                cytrack[cyc] = x\n",
    "                siglog.append(cyc * x)\n",
    "                #linetrack[cyc] = linecount\n",
    "        elif cmd.startswith('addx'):\n",
    "            op, val = cmd.split()\n",
    "            for i in range(2):\n",
    "                cyc += 1\n",
    "                if 1 == i:\n",
    "                    x += int(val)\n",
    "                if cyc in cycap:\n",
    "                    cytrack[cyc] = x\n",
    "                    siglog.append(cyc * x)\n",
    "                    #linetrack[cyc] = linecount\n",
    "        else:\n",
    "            raise ValueError(\"Unknown cmd: {}\".format(cmd))\n",
    "        linecount += 1\n",
    "            \n",
    "#for k, v in cytrack.items():\n",
    "#    print(\"Cyc:{}; X:{}\".format(k, v))"
   ]
  },
  {
   "cell_type": "code",
   "execution_count": 24,
   "metadata": {
    "ExecuteTime": {
     "end_time": "2021-12-01T13:35:02.389653Z",
     "start_time": "2021-12-01T13:35:02.351863Z"
    }
   },
   "outputs": [],
   "source": [
    "#display(Markdown(\"The sum of signal strengths is **{}**.\".format(sum(siglog))))"
   ]
  },
  {
   "cell_type": "markdown",
   "metadata": {},
   "source": [
    "## Part Two\n",
    "\n"
   ]
  },
  {
   "cell_type": "code",
   "execution_count": null,
   "metadata": {},
   "outputs": [],
   "source": []
  }
 ],
 "metadata": {
  "kernelspec": {
   "display_name": "Python 3 (ipykernel)",
   "language": "python",
   "name": "python3"
  },
  "language_info": {
   "codemirror_mode": {
    "name": "ipython",
    "version": 3
   },
   "file_extension": ".py",
   "mimetype": "text/x-python",
   "name": "python",
   "nbconvert_exporter": "python",
   "pygments_lexer": "ipython3",
   "version": "3.9.13"
  },
  "toc": {
   "base_numbering": 1,
   "nav_menu": {},
   "number_sections": true,
   "sideBar": true,
   "skip_h1_title": false,
   "title_cell": "Table of Contents",
   "title_sidebar": "Contents",
   "toc_cell": false,
   "toc_position": {},
   "toc_section_display": true,
   "toc_window_display": false
  }
 },
 "nbformat": 4,
 "nbformat_minor": 4
}
