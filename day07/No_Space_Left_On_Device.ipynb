{
 "cells": [
  {
   "cell_type": "markdown",
   "metadata": {},
   "source": [
    "# Day 7: No Space Left On Device\n",
    "https://adventofcode.com/2022/day/7\n",
    "\n",
    "## Part 1\n",
    "\n",
    "Find all of the directories with a total size of at most 100000.\n",
    "**What is the sum of the total sizes of those directories?**"
   ]
  },
  {
   "cell_type": "code",
   "execution_count": 1,
   "metadata": {},
   "outputs": [],
   "source": [
    "#%qtconsole"
   ]
  },
  {
   "cell_type": "code",
   "execution_count": 2,
   "metadata": {
    "ExecuteTime": {
     "end_time": "2021-12-01T13:35:02.320616Z",
     "start_time": "2021-12-01T13:35:01.787920Z"
    }
   },
   "outputs": [],
   "source": [
    "#import numpy as np\n",
    "import re\n",
    "from IPython.display import Markdown"
   ]
  },
  {
   "cell_type": "code",
   "execution_count": 3,
   "metadata": {},
   "outputs": [],
   "source": [
    "# regex for matching on file size\n",
    "r = re.compile('(\\d+)\\s')"
   ]
  },
  {
   "cell_type": "code",
   "execution_count": 4,
   "metadata": {
    "ExecuteTime": {
     "end_time": "2021-12-01T13:35:02.351863Z",
     "start_time": "2021-12-01T13:35:02.320616Z"
    }
   },
   "outputs": [],
   "source": [
    "cwd = list()\n",
    "sdict = dict()\n",
    "with open('input.txt', 'r') as fid:\n",
    "#with open('testinput.txt', 'r') as fid:\n",
    "    for line in fid:\n",
    "        if line.startswith('$ cd'):\n",
    "            # Changing directories\n",
    "            _, _, d = line.strip().split()\n",
    "            if d == '/':\n",
    "                cwd = ['/']\n",
    "            elif d == '..':\n",
    "                cwd.pop()\n",
    "            else:\n",
    "                cwd.append(d)\n",
    "            continue\n",
    "        #print(cwd)\n",
    "        m = r.match(line)\n",
    "        if m:\n",
    "            path = tuple(cwd)\n",
    "            # Size of a file reported\n",
    "            val = int(m.group(1))\n",
    "            if path in sdict:\n",
    "                sdict[path] += val\n",
    "            else:\n",
    "                sdict[path] = val\n",
    "            # Add this value to every parent\n",
    "            p1 = list(path)\n",
    "            while p1:\n",
    "                p1.pop()\n",
    "                if p1:\n",
    "                    p2 = tuple(p1)\n",
    "                    if p2 in sdict:\n",
    "                        sdict[p2] += val\n",
    "                    else:\n",
    "                        sdict[p2] = val"
   ]
  },
  {
   "cell_type": "code",
   "execution_count": 5,
   "metadata": {},
   "outputs": [],
   "source": [
    "dsum = 0\n",
    "for k, v in sdict.items():\n",
    "    if k != ('/',) and 100000 >= v:\n",
    "        dsum += v"
   ]
  },
  {
   "cell_type": "code",
   "execution_count": 6,
   "metadata": {
    "ExecuteTime": {
     "end_time": "2021-12-01T13:35:02.389653Z",
     "start_time": "2021-12-01T13:35:02.351863Z"
    }
   },
   "outputs": [],
   "source": [
    "#display(Markdown(\"The sum of the total sizes of those directories is **{}**.\".format(dsum)))"
   ]
  },
  {
   "cell_type": "markdown",
   "metadata": {},
   "source": [
    "## Part Two\n",
    "\n"
   ]
  },
  {
   "cell_type": "code",
   "execution_count": 7,
   "metadata": {},
   "outputs": [],
   "source": [
    "diskspace = 70000000\n",
    "unused = diskspace - sdict[('/',)]\n",
    "needed = 30000000\n",
    "need_to_delete = needed - unused\n",
    "#display(\"Still need to delete: {}\".format(need_to_delete))"
   ]
  },
  {
   "cell_type": "code",
   "execution_count": 8,
   "metadata": {},
   "outputs": [],
   "source": [
    "sdict2 = {v: k for k, v in sdict.items()}\n",
    "vsorted = sorted(sdict2.keys())\n",
    "for v in vsorted:\n",
    "    if need_to_delete <= v:\n",
    "        dval = v\n",
    "        break"
   ]
  },
  {
   "cell_type": "code",
   "execution_count": 9,
   "metadata": {
    "ExecuteTime": {
     "end_time": "2021-12-01T13:35:02.389653Z",
     "start_time": "2021-12-01T13:35:02.351863Z"
    }
   },
   "outputs": [],
   "source": [
    "#display(Markdown(\"The size of the smallest directory to delete is **{}**.\".format(dval)))\n",
    "#display(Markdown(\"The directory is {}\".format(sdict2[dval])))"
   ]
  },
  {
   "cell_type": "code",
   "execution_count": null,
   "metadata": {},
   "outputs": [],
   "source": []
  }
 ],
 "metadata": {
  "kernelspec": {
   "display_name": "Python 3 (ipykernel)",
   "language": "python",
   "name": "python3"
  },
  "language_info": {
   "codemirror_mode": {
    "name": "ipython",
    "version": 3
   },
   "file_extension": ".py",
   "mimetype": "text/x-python",
   "name": "python",
   "nbconvert_exporter": "python",
   "pygments_lexer": "ipython3",
   "version": "3.9.13"
  },
  "toc": {
   "base_numbering": 1,
   "nav_menu": {},
   "number_sections": true,
   "sideBar": true,
   "skip_h1_title": false,
   "title_cell": "Table of Contents",
   "title_sidebar": "Contents",
   "toc_cell": false,
   "toc_position": {},
   "toc_section_display": true,
   "toc_window_display": false
  }
 },
 "nbformat": 4,
 "nbformat_minor": 4
}
