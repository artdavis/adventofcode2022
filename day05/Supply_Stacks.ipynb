{
 "cells": [
  {
   "cell_type": "markdown",
   "metadata": {},
   "source": [
    "# Day 5: Supply Stacks\n",
    "https://adventofcode.com/2022/day/5\n",
    "\n",
    "## Part 1\n",
    "\n",
    "**After the rearrangement procedure completes, what crate ends up on top of each stack?**"
   ]
  },
  {
   "cell_type": "code",
   "execution_count": 1,
   "metadata": {},
   "outputs": [],
   "source": [
    "#%qtconsole"
   ]
  },
  {
   "cell_type": "code",
   "execution_count": 2,
   "metadata": {
    "ExecuteTime": {
     "end_time": "2021-12-01T13:35:02.320616Z",
     "start_time": "2021-12-01T13:35:01.787920Z"
    }
   },
   "outputs": [],
   "source": [
    "#import numpy as np\n",
    "from IPython.display import Markdown"
   ]
  },
  {
   "cell_type": "code",
   "execution_count": 3,
   "metadata": {
    "ExecuteTime": {
     "end_time": "2021-12-01T13:35:02.351863Z",
     "start_time": "2021-12-01T13:35:02.320616Z"
    }
   },
   "outputs": [],
   "source": [
    "stacktxt = list()\n",
    "cmdlist = list()\n",
    "getcmds = False\n",
    "with open('input.txt', 'r') as fid:\n",
    "#with open('testinput.txt', 'r') as fid:\n",
    "    for line in fid:\n",
    "        if line.strip() == '':\n",
    "            # Ignore blank line\n",
    "            continue\n",
    "        if line.strip().startswith('1'):\n",
    "            stacknums = [int(x) for x in line.strip().split()]\n",
    "            getcmds = True\n",
    "        elif getcmds:\n",
    "            cmdlist.append(line.strip())\n",
    "        else:\n",
    "            # Gather stack information\n",
    "            l = line.strip('\\n')\n",
    "            l = l.replace('[', '').replace('] ', '_').strip(']')\n",
    "            # Zeros are empty spaces on the stack\n",
    "            l = l.replace('    ', '0_').replace('   ', '0')\n",
    "            stacktxt.append(l.split('_'))\n",
    "\n",
    "#for r in stacktxt:\n",
    "#    print(r)\n",
    "#display(stacktxt)"
   ]
  },
  {
   "cell_type": "code",
   "execution_count": 4,
   "metadata": {},
   "outputs": [],
   "source": [
    "stacks = {x: list() for x in stacknums}\n",
    "for r in stacktxt[::-1]:\n",
    "    for i, val in enumerate(r):\n",
    "        if '0' != val:\n",
    "            stacks[i+1].append(val)\n",
    "#stacks\n",
    "\n",
    "# Run the command list\n",
    "for cmd in cmdlist:\n",
    "    _, n, _, s0, _, s1 = cmd.split()\n",
    "    n = int(n)\n",
    "    s0 = int(s0)\n",
    "    s1 = int(s1)\n",
    "    for i in range(n):\n",
    "        stacks[s1].append(stacks[s0].pop())\n",
    "\n",
    "topcrates = ''.join([stacks[i][-1] for i in stacknums])\n",
    "#topcrates"
   ]
  },
  {
   "cell_type": "code",
   "execution_count": 5,
   "metadata": {
    "ExecuteTime": {
     "end_time": "2021-12-01T13:35:02.389653Z",
     "start_time": "2021-12-01T13:35:02.351863Z"
    }
   },
   "outputs": [],
   "source": [
    "#display(Markdown(\"The top crates are **{}**.\".format(topcrates)))"
   ]
  },
  {
   "cell_type": "markdown",
   "metadata": {},
   "source": [
    "## Part Two\n",
    "\n",
    "**After the rearrangement procedure completes, what crate ends up on top of each stack?**"
   ]
  },
  {
   "cell_type": "code",
   "execution_count": 6,
   "metadata": {},
   "outputs": [],
   "source": [
    "stacks2 = {x: list() for x in stacknums}\n",
    "\n",
    "for r in stacktxt[::-1]:\n",
    "    for i, val in enumerate(r):\n",
    "        if '0' != val:\n",
    "            stacks2[i+1].append(val)\n",
    "#stacks2\n",
    "\n",
    "# Run the command list for order preserving operations\n",
    "for cmd in cmdlist:\n",
    "    _, n, _, s0, _, s1 = cmd.split()\n",
    "    n = int(n)\n",
    "    s0 = int(s0)\n",
    "    s1 = int(s1)\n",
    "    # Move the ordered group over\n",
    "    stacks2[s1].extend(stacks2[s0][-n:])\n",
    "    for i in range(n):\n",
    "        # Pop them off where they came from\n",
    "        stacks2[s0].pop()\n",
    "\n",
    "topcrates2 = ''.join([stacks2[i][-1] for i in stacknums])\n",
    "#topcrates2"
   ]
  },
  {
   "cell_type": "code",
   "execution_count": 7,
   "metadata": {
    "ExecuteTime": {
     "end_time": "2021-12-01T13:35:02.389653Z",
     "start_time": "2021-12-01T13:35:02.351863Z"
    }
   },
   "outputs": [],
   "source": [
    "#display(Markdown(\"The top crates are **{}**.\".format(topcrates2)))"
   ]
  },
  {
   "cell_type": "code",
   "execution_count": null,
   "metadata": {},
   "outputs": [],
   "source": []
  }
 ],
 "metadata": {
  "kernelspec": {
   "display_name": "Python 3 (ipykernel)",
   "language": "python",
   "name": "python3"
  },
  "language_info": {
   "codemirror_mode": {
    "name": "ipython",
    "version": 3
   },
   "file_extension": ".py",
   "mimetype": "text/x-python",
   "name": "python",
   "nbconvert_exporter": "python",
   "pygments_lexer": "ipython3",
   "version": "3.9.13"
  },
  "toc": {
   "base_numbering": 1,
   "nav_menu": {},
   "number_sections": true,
   "sideBar": true,
   "skip_h1_title": false,
   "title_cell": "Table of Contents",
   "title_sidebar": "Contents",
   "toc_cell": false,
   "toc_position": {},
   "toc_section_display": true,
   "toc_window_display": false
  }
 },
 "nbformat": 4,
 "nbformat_minor": 4
}
