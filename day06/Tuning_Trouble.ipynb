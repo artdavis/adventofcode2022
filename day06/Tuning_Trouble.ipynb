{
 "cells": [
  {
   "cell_type": "markdown",
   "metadata": {},
   "source": [
    "# Day 6: Tuning Trouble\n",
    "https://adventofcode.com/2022/day/6\n",
    "\n",
    "## Part 1\n",
    "\n",
    "**How many characters need to be processed before the first start-of-packet marker is detected?**"
   ]
  },
  {
   "cell_type": "code",
   "execution_count": 1,
   "metadata": {},
   "outputs": [],
   "source": [
    "#%qtconsole"
   ]
  },
  {
   "cell_type": "code",
   "execution_count": 2,
   "metadata": {
    "ExecuteTime": {
     "end_time": "2021-12-01T13:35:02.320616Z",
     "start_time": "2021-12-01T13:35:01.787920Z"
    }
   },
   "outputs": [],
   "source": [
    "#import numpy as np\n",
    "from IPython.display import Markdown"
   ]
  },
  {
   "cell_type": "code",
   "execution_count": 3,
   "metadata": {
    "ExecuteTime": {
     "end_time": "2021-12-01T13:35:02.351863Z",
     "start_time": "2021-12-01T13:35:02.320616Z"
    }
   },
   "outputs": [],
   "source": [
    "with open('input.txt', 'r') as fid:\n",
    "#with open('testinput.txt', 'r') as fid:\n",
    "    txt = fid.read().strip()\n",
    "#txt"
   ]
  },
  {
   "cell_type": "code",
   "execution_count": 4,
   "metadata": {},
   "outputs": [],
   "source": [
    "def get_start(nchars):\n",
    "    \"\"\"\n",
    "    Get start character number for first unique nchars\n",
    "    \"\"\"\n",
    "    for i in range(nchars-1, len(txt)):\n",
    "        tset = set(txt[i-(nchars-1):i+1])\n",
    "        if len(tset) > (nchars - 1):\n",
    "            # Start of packet marker detected\n",
    "            #print(i+1, tset)\n",
    "            break\n",
    "    # Start character        \n",
    "    return i + 1\n",
    "\n",
    "# Start of packet:\n",
    "sop = get_start(4)"
   ]
  },
  {
   "cell_type": "code",
   "execution_count": 5,
   "metadata": {
    "ExecuteTime": {
     "end_time": "2021-12-01T13:35:02.389653Z",
     "start_time": "2021-12-01T13:35:02.351863Z"
    }
   },
   "outputs": [],
   "source": [
    "#display(Markdown(\"Start of packet is at character number **{}**.\".format(sop)))"
   ]
  },
  {
   "cell_type": "markdown",
   "metadata": {},
   "source": [
    "## Part Two\n",
    "\n",
    "**How many characters need to be processed before the first start-of-message marker is detected?**"
   ]
  },
  {
   "cell_type": "code",
   "execution_count": 6,
   "metadata": {},
   "outputs": [],
   "source": [
    "# Start of packet message\n",
    "som = get_start(14)"
   ]
  },
  {
   "cell_type": "code",
   "execution_count": 7,
   "metadata": {
    "ExecuteTime": {
     "end_time": "2021-12-01T13:35:02.389653Z",
     "start_time": "2021-12-01T13:35:02.351863Z"
    }
   },
   "outputs": [],
   "source": [
    "#display(Markdown(\"Start of message is at character number **{}**.\".format(som)))"
   ]
  },
  {
   "cell_type": "code",
   "execution_count": null,
   "metadata": {},
   "outputs": [],
   "source": []
  }
 ],
 "metadata": {
  "kernelspec": {
   "display_name": "Python 3 (ipykernel)",
   "language": "python",
   "name": "python3"
  },
  "language_info": {
   "codemirror_mode": {
    "name": "ipython",
    "version": 3
   },
   "file_extension": ".py",
   "mimetype": "text/x-python",
   "name": "python",
   "nbconvert_exporter": "python",
   "pygments_lexer": "ipython3",
   "version": "3.9.13"
  },
  "toc": {
   "base_numbering": 1,
   "nav_menu": {},
   "number_sections": true,
   "sideBar": true,
   "skip_h1_title": false,
   "title_cell": "Table of Contents",
   "title_sidebar": "Contents",
   "toc_cell": false,
   "toc_position": {},
   "toc_section_display": true,
   "toc_window_display": false
  }
 },
 "nbformat": 4,
 "nbformat_minor": 4
}
