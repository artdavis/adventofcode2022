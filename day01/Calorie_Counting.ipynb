{
 "cells": [
  {
   "cell_type": "markdown",
   "metadata": {},
   "source": [
    "# Day 1: Calorie Counting\n",
    "https://adventofcode.com/2022/day/1\n",
    "\n",
    "## Part 1\n",
    "\n",
    "Find the Elf carrying the most Calories. **How many total Calories is that Elf carrying?**"
   ]
  },
  {
   "cell_type": "code",
   "execution_count": 1,
   "metadata": {},
   "outputs": [],
   "source": [
    "#%qtconsole"
   ]
  },
  {
   "cell_type": "code",
   "execution_count": 42,
   "metadata": {
    "ExecuteTime": {
     "end_time": "2021-12-01T13:35:02.320616Z",
     "start_time": "2021-12-01T13:35:01.787920Z"
    }
   },
   "outputs": [],
   "source": [
    "import numpy as np\n",
    "from IPython.display import Markdown"
   ]
  },
  {
   "cell_type": "code",
   "execution_count": 43,
   "metadata": {
    "ExecuteTime": {
     "end_time": "2021-12-01T13:35:02.351863Z",
     "start_time": "2021-12-01T13:35:02.320616Z"
    }
   },
   "outputs": [],
   "source": [
    "tlist = list()\n",
    "with open('input.txt', 'r') as fid:\n",
    "    sublist = list()\n",
    "    for line in fid:\n",
    "        v = line.strip()\n",
    "        if '' == v:\n",
    "            tlist.append(np.array(sublist))\n",
    "            sublist = list()\n",
    "        else:\n",
    "            sublist.append(int(v))"
   ]
  },
  {
   "cell_type": "code",
   "execution_count": 44,
   "metadata": {},
   "outputs": [],
   "source": [
    "sums = [x.sum() for x in tlist]"
   ]
  },
  {
   "cell_type": "code",
   "execution_count": 1,
   "metadata": {
    "ExecuteTime": {
     "end_time": "2021-12-01T13:35:02.389653Z",
     "start_time": "2021-12-01T13:35:02.351863Z"
    }
   },
   "outputs": [],
   "source": [
    "#display(Markdown(\"The Elf carrying the most calories is carrying **{}** calories\".format(np.max(sums))))"
   ]
  },
  {
   "cell_type": "markdown",
   "metadata": {},
   "source": [
    "## Part Two\n",
    "\n",
    "Find the top three Elves carrying the most Calories. **How many Calories are those Elves carrying in total?**"
   ]
  },
  {
   "cell_type": "code",
   "execution_count": 46,
   "metadata": {},
   "outputs": [],
   "source": [
    "paresums = sums.copy()\n",
    "maxsums = list()\n",
    "for _ in range(3):\n",
    "    maxsums.append(np.max(paresums))\n",
    "    paresums.remove(maxsums[-1])"
   ]
  },
  {
   "cell_type": "code",
   "execution_count": 2,
   "metadata": {
    "ExecuteTime": {
     "end_time": "2021-12-01T13:35:02.452160Z",
     "start_time": "2021-12-01T13:35:02.405277Z"
    }
   },
   "outputs": [],
   "source": [
    "#display(Markdown(\"The top three Elf calories sum is **{}**.\".format(np.sum(maxsums))))"
   ]
  },
  {
   "cell_type": "code",
   "execution_count": null,
   "metadata": {},
   "outputs": [],
   "source": []
  }
 ],
 "metadata": {
  "kernelspec": {
   "display_name": "Python 3 (ipykernel)",
   "language": "python",
   "name": "python3"
  },
  "language_info": {
   "codemirror_mode": {
    "name": "ipython",
    "version": 3
   },
   "file_extension": ".py",
   "mimetype": "text/x-python",
   "name": "python",
   "nbconvert_exporter": "python",
   "pygments_lexer": "ipython3",
   "version": "3.9.13"
  },
  "toc": {
   "base_numbering": 1,
   "nav_menu": {},
   "number_sections": true,
   "sideBar": true,
   "skip_h1_title": false,
   "title_cell": "Table of Contents",
   "title_sidebar": "Contents",
   "toc_cell": false,
   "toc_position": {},
   "toc_section_display": true,
   "toc_window_display": false
  }
 },
 "nbformat": 4,
 "nbformat_minor": 4
}
