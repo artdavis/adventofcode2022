{
 "cells": [
  {
   "cell_type": "markdown",
   "metadata": {},
   "source": [
    "# Day 8: Treetop Tree House\n",
    "https://adventofcode.com/2022/day/8\n",
    "\n",
    "## Part 1\n",
    "\n",
    "Consider your map; **how many trees are visible from outside the grid?**"
   ]
  },
  {
   "cell_type": "code",
   "execution_count": 1,
   "metadata": {},
   "outputs": [],
   "source": [
    "#%qtconsole"
   ]
  },
  {
   "cell_type": "code",
   "execution_count": 2,
   "metadata": {
    "ExecuteTime": {
     "end_time": "2021-12-01T13:35:02.320616Z",
     "start_time": "2021-12-01T13:35:01.787920Z"
    }
   },
   "outputs": [],
   "source": [
    "import numpy as np\n",
    "from IPython.display import Markdown"
   ]
  },
  {
   "cell_type": "code",
   "execution_count": 3,
   "metadata": {
    "ExecuteTime": {
     "end_time": "2021-12-01T13:35:02.351863Z",
     "start_time": "2021-12-01T13:35:02.320616Z"
    }
   },
   "outputs": [],
   "source": [
    "infile = 'input.txt'\n",
    "#infile = 'testinput.txt'\n",
    "\n",
    "dlist = list()\n",
    "with open(infile, 'r') as fid:\n",
    "    for line in fid:\n",
    "        dlist.append([int(x) for x in line.strip()])\n",
    "\n",
    "dat = np.array(dlist)\n",
    "#dat\n",
    "\n",
    "# Map of tree visibility. True if visible, False if not\n",
    "vmap = np.zeros(dat.shape, dtype=bool)\n",
    "\n",
    "def findvis(seq, vseq):\n",
    "    # Find visibility per dequence of numbers\n",
    "    for i, n in enumerate(seq):\n",
    "        if 0 == i:\n",
    "            vseq[i] = True\n",
    "            ht = n\n",
    "        elif n > ht:\n",
    "            vseq[i] = True\n",
    "            ht = n\n",
    "        if n == 9:\n",
    "            # No more trees can be visible\n",
    "            break\n",
    "            \n",
    "#seq = dat[2]\n",
    "#vseq = np.zeros(len(seq), dtype=bool)\n",
    "#findvis(seq, vseq)\n",
    "#vseq\n",
    "\n",
    "for loop in range(4):\n",
    "    for i, x in enumerate(dat):\n",
    "        findvis(x, vmap[i])\n",
    "    dat = np.rot90(dat)\n",
    "    vmap = np.rot90(vmap)"
   ]
  },
  {
   "cell_type": "code",
   "execution_count": 4,
   "metadata": {
    "ExecuteTime": {
     "end_time": "2021-12-01T13:35:02.389653Z",
     "start_time": "2021-12-01T13:35:02.351863Z"
    }
   },
   "outputs": [],
   "source": [
    "#display(Markdown(\"The number of visible trees is **{}**.\".format(vmap.sum())))"
   ]
  },
  {
   "cell_type": "markdown",
   "metadata": {},
   "source": [
    "## Part Two\n",
    "\n",
    "Consider each tree on your map. **What is the highest scenic score possible for any tree?**"
   ]
  },
  {
   "cell_type": "code",
   "execution_count": 5,
   "metadata": {},
   "outputs": [],
   "source": [
    "dat2 = np.array(dlist)\n",
    "# Index values of lower and right edges\n",
    "imax, jmax = np.array(dat2.shape) - (1, 1)\n",
    "# Scenic scores\n",
    "rscore = np.zeros_like(dat2)\n",
    "lscore = rscore.copy()\n",
    "dscore = rscore.copy()\n",
    "uscore = rscore.copy()\n",
    "it = np.nditer(dat2, flags=['multi_index'])\n",
    "for x in it:\n",
    "    i, j = it.multi_index\n",
    "    #print(\"{}:{}\".format(x, it.multi_index))\n",
    "    if 0==i or 0==j or imax==i or jmax==j:\n",
    "        # Edge score is always zero\n",
    "        continue\n",
    "    # Look to the right\n",
    "    for y in dat2[i, j+1:]:\n",
    "        rscore[i, j] += 1\n",
    "        delta = x - y\n",
    "        if delta <= 0:\n",
    "            break\n",
    "    # Look to the left\n",
    "    for y in dat2[i, j-1::-1]:\n",
    "        lscore[i, j] += 1\n",
    "        delta = x - y\n",
    "        if delta <= 0:\n",
    "            break\n",
    "    # Look down\n",
    "    for y in dat2[i+1:, j]:\n",
    "        dscore[i, j] += 1\n",
    "        delta = x - y\n",
    "        if delta <= 0:\n",
    "            break\n",
    "    # Look up\n",
    "    for y in dat2[i-1::-1, j]:\n",
    "        uscore[i, j] += 1\n",
    "        delta = x - y\n",
    "        if delta <= 0:\n",
    "            break\n",
    "score = lscore * rscore * dscore * uscore"
   ]
  },
  {
   "cell_type": "code",
   "execution_count": 6,
   "metadata": {
    "ExecuteTime": {
     "end_time": "2021-12-01T13:35:02.389653Z",
     "start_time": "2021-12-01T13:35:02.351863Z"
    }
   },
   "outputs": [],
   "source": [
    "#display(Markdown(\"The highest possible scenic score is **{}**.\".format(score.max())))"
   ]
  }
 ],
 "metadata": {
  "kernelspec": {
   "display_name": "Python 3 (ipykernel)",
   "language": "python",
   "name": "python3"
  },
  "language_info": {
   "codemirror_mode": {
    "name": "ipython",
    "version": 3
   },
   "file_extension": ".py",
   "mimetype": "text/x-python",
   "name": "python",
   "nbconvert_exporter": "python",
   "pygments_lexer": "ipython3",
   "version": "3.9.13"
  },
  "toc": {
   "base_numbering": 1,
   "nav_menu": {},
   "number_sections": true,
   "sideBar": true,
   "skip_h1_title": false,
   "title_cell": "Table of Contents",
   "title_sidebar": "Contents",
   "toc_cell": false,
   "toc_position": {},
   "toc_section_display": true,
   "toc_window_display": false
  }
 },
 "nbformat": 4,
 "nbformat_minor": 4
}
