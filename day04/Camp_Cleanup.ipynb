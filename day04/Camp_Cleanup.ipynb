{
 "cells": [
  {
   "cell_type": "markdown",
   "metadata": {},
   "source": [
    "# Day 4: Camp Cleanup\n",
    "https://adventofcode.com/2022/day/4\n",
    "\n",
    "## Part 1\n",
    "\n",
    "**In how many assignment pairs does one range fully contain the other?**"
   ]
  },
  {
   "cell_type": "code",
   "execution_count": 1,
   "metadata": {},
   "outputs": [],
   "source": [
    "#%qtconsole"
   ]
  },
  {
   "cell_type": "code",
   "execution_count": 2,
   "metadata": {
    "ExecuteTime": {
     "end_time": "2021-12-01T13:35:02.320616Z",
     "start_time": "2021-12-01T13:35:01.787920Z"
    }
   },
   "outputs": [],
   "source": [
    "import numpy as np\n",
    "from IPython.display import Markdown"
   ]
  },
  {
   "cell_type": "code",
   "execution_count": 3,
   "metadata": {
    "ExecuteTime": {
     "end_time": "2021-12-01T13:35:02.351863Z",
     "start_time": "2021-12-01T13:35:02.320616Z"
    }
   },
   "outputs": [],
   "source": [
    "count = 0\n",
    "\n",
    "with open('input.txt', 'r') as fid:\n",
    "#with open('testinput.txt', 'r') as fid:\n",
    "    for line in fid:\n",
    "        a, b = line.strip().split(',')\n",
    "        a1, a2 = [int(x) for x in a.split('-')]\n",
    "        b1, b2 = [int(x) for x in b.split('-')]\n",
    "        avals = set(range(a1, a2 + 1))\n",
    "        bvals = set(range(b1, b2 + 1))\n",
    "        minlen = min(len(avals), len(bvals))\n",
    "        overlap = avals & bvals\n",
    "        if len(overlap) == minlen:\n",
    "            # One range is fully contained\n",
    "            #print(overlap)\n",
    "            count += 1\n",
    "        else:\n",
    "            # Neither range is fully contained\n",
    "            #print(False)\n",
    "            pass"
   ]
  },
  {
   "cell_type": "code",
   "execution_count": 4,
   "metadata": {
    "ExecuteTime": {
     "end_time": "2021-12-01T13:35:02.389653Z",
     "start_time": "2021-12-01T13:35:02.351863Z"
    }
   },
   "outputs": [],
   "source": [
    "#display(Markdown(\"One range is fully contained in the other **{}** times.\".format(count)))"
   ]
  },
  {
   "cell_type": "markdown",
   "metadata": {},
   "source": [
    "## Part Two\n",
    "\n",
    "In **how many assignment pairs do the ranges overlap?**"
   ]
  },
  {
   "cell_type": "code",
   "execution_count": 5,
   "metadata": {
    "ExecuteTime": {
     "end_time": "2021-12-01T13:35:02.351863Z",
     "start_time": "2021-12-01T13:35:02.320616Z"
    }
   },
   "outputs": [],
   "source": [
    "count2 = 0\n",
    "\n",
    "with open('input.txt', 'r') as fid:\n",
    "#with open('testinput.txt', 'r') as fid:\n",
    "    for line in fid:\n",
    "        a, b = line.strip().split(',')\n",
    "        a1, a2 = [int(x) for x in a.split('-')]\n",
    "        b1, b2 = [int(x) for x in b.split('-')]\n",
    "        avals = set(range(a1, a2 + 1))\n",
    "        bvals = set(range(b1, b2 + 1))\n",
    "        overlap = avals & bvals\n",
    "        if len(overlap) > 0:\n",
    "            # There's at least one overlap\n",
    "            #print(overlap)\n",
    "            count2 += 1\n",
    "        else:\n",
    "            # There is no overlap\n",
    "            #print(False)\n",
    "            pass"
   ]
  },
  {
   "cell_type": "code",
   "execution_count": 6,
   "metadata": {
    "ExecuteTime": {
     "end_time": "2021-12-01T13:35:02.389653Z",
     "start_time": "2021-12-01T13:35:02.351863Z"
    }
   },
   "outputs": [],
   "source": [
    "#display(Markdown(\"There's at least one overlap **{}** times.\".format(count2)))"
   ]
  },
  {
   "cell_type": "code",
   "execution_count": null,
   "metadata": {},
   "outputs": [],
   "source": []
  }
 ],
 "metadata": {
  "kernelspec": {
   "display_name": "Python 3 (ipykernel)",
   "language": "python",
   "name": "python3"
  },
  "language_info": {
   "codemirror_mode": {
    "name": "ipython",
    "version": 3
   },
   "file_extension": ".py",
   "mimetype": "text/x-python",
   "name": "python",
   "nbconvert_exporter": "python",
   "pygments_lexer": "ipython3",
   "version": "3.9.13"
  },
  "toc": {
   "base_numbering": 1,
   "nav_menu": {},
   "number_sections": true,
   "sideBar": true,
   "skip_h1_title": false,
   "title_cell": "Table of Contents",
   "title_sidebar": "Contents",
   "toc_cell": false,
   "toc_position": {},
   "toc_section_display": true,
   "toc_window_display": false
  }
 },
 "nbformat": 4,
 "nbformat_minor": 4
}
