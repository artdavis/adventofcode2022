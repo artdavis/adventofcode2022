{
 "cells": [
  {
   "cell_type": "markdown",
   "metadata": {},
   "source": [
    "# Day 2: Rock Paper Scissors\n",
    "https://adventofcode.com/2022/day/2\n",
    "\n",
    "## Part 1\n",
    "\n",
    "**What would your total score be if everything goes exactly according to your strategy guide?**"
   ]
  },
  {
   "cell_type": "code",
   "execution_count": 2,
   "metadata": {},
   "outputs": [],
   "source": [
    "#%qtconsole"
   ]
  },
  {
   "cell_type": "code",
   "execution_count": 3,
   "metadata": {
    "ExecuteTime": {
     "end_time": "2021-12-01T13:35:02.320616Z",
     "start_time": "2021-12-01T13:35:01.787920Z"
    }
   },
   "outputs": [],
   "source": [
    "import numpy as np\n",
    "from IPython.display import Markdown"
   ]
  },
  {
   "cell_type": "code",
   "execution_count": 14,
   "metadata": {},
   "outputs": [],
   "source": [
    "# A: Opponent rock\n",
    "# B: Opponent paper\n",
    "# C: Opponent scissors\n",
    "# X: You rock\n",
    "# Y: You paper\n",
    "# Z: You scissors\n",
    "\n",
    "# X (rock) beats C (scissors)\n",
    "# Y (paper) beats A (rock)\n",
    "# Z (scissors) beats B (paper)\n",
    "\n",
    "windict = {'X': 'C',\n",
    "           'Y': 'A',\n",
    "           'Z': 'B'}\n",
    "drawdict = {'X': 'A',\n",
    "            'Y': 'B',\n",
    "            'Z': 'C'}\n",
    "valdict = {'X': 1, # Rock is 1 pt\n",
    "           'Y': 2, # Paper is 2 pts\n",
    "           'Z': 3, # Scissors is 3 pts\n",
    "          }\n",
    "\n",
    "def outcome(oppo, you):\n",
    "    # Score for the round\n",
    "    if windict[you] == oppo:\n",
    "        # WIN!\n",
    "        return 6 + valdict[you]\n",
    "    if drawdict[you] == oppo:\n",
    "        # TIE\n",
    "        return 3 + valdict[you]\n",
    "    else:\n",
    "        # LOSE\n",
    "        return 0 + valdict[you]"
   ]
  },
  {
   "cell_type": "code",
   "execution_count": 18,
   "metadata": {
    "ExecuteTime": {
     "end_time": "2021-12-01T13:35:02.351863Z",
     "start_time": "2021-12-01T13:35:02.320616Z"
    }
   },
   "outputs": [],
   "source": [
    "score = 0\n",
    "with open('input.txt', 'r') as fid:\n",
    "    for line in fid:\n",
    "        score += outcome(*line.strip().split())"
   ]
  },
  {
   "cell_type": "code",
   "execution_count": 1,
   "metadata": {
    "ExecuteTime": {
     "end_time": "2021-12-01T13:35:02.389653Z",
     "start_time": "2021-12-01T13:35:02.351863Z"
    }
   },
   "outputs": [],
   "source": [
    "#display(Markdown(\"Your total score will be **{}**.\".format(score)))"
   ]
  },
  {
   "cell_type": "markdown",
   "metadata": {},
   "source": [
    "## Part Two\n",
    "\n",
    "Following the Elf's instructions for the second column,\n",
    "**what would your total score be if everything goes exactly according to your strategy guide?**"
   ]
  },
  {
   "cell_type": "code",
   "execution_count": 30,
   "metadata": {},
   "outputs": [],
   "source": [
    "# A: rock (+1)\n",
    "# B: paper (+2)\n",
    "# C: scissors (+3)\n",
    "\n",
    "# X: You must lose\n",
    "# Y: You must draw\n",
    "# Z: You must win\n",
    "\n",
    "# key: oppo, val: how you win\n",
    "windict2 = {'A': 'B',\n",
    "            'B': 'C',\n",
    "            'C': 'A'}\n",
    "# key: oppo, val: how you draw\n",
    "drawdict2 = {'A': 'A',\n",
    "             'B': 'B',\n",
    "             'C': 'C'}\n",
    "# key oppo, val: how you lose\n",
    "losedict2 = {'A': 'C',\n",
    "             'B': 'A',\n",
    "             'C': 'B'}\n",
    "valdict2 = {'A': 1, # Rock is 1 pt\n",
    "            'B': 2, # Paper is 2 pts\n",
    "            'C': 3, # Scissors is 3 pts\n",
    "           }\n",
    "\n",
    "def outcome2(oppo, you):\n",
    "    # Score for the round\n",
    "    if windict2[oppo] == you:\n",
    "        # WIN!\n",
    "        return 6 + valdict2[you]\n",
    "    if drawdict2[oppo] == you:\n",
    "        # TIE\n",
    "        return 3 + valdict2[you]\n",
    "    else:\n",
    "        # LOSE\n",
    "        return 0 + valdict2[you]\n",
    "\n",
    "def playround(oppo, strat):\n",
    "    if 'X' == strat:\n",
    "        # Must lose\n",
    "        return outcome2(oppo, losedict2[oppo])\n",
    "    elif 'Y' == strat:\n",
    "        # Must draw\n",
    "        return outcome2(oppo, drawdict2[oppo])\n",
    "    elif 'Z' == strat:\n",
    "        # Must win\n",
    "        return outcome2(oppo, windict2[oppo])\n",
    "    else:\n",
    "        raise ValueError(\"Unsupported strategy: {}\".format(strat))"
   ]
  },
  {
   "cell_type": "code",
   "execution_count": 34,
   "metadata": {
    "ExecuteTime": {
     "end_time": "2021-12-01T13:35:02.351863Z",
     "start_time": "2021-12-01T13:35:02.320616Z"
    }
   },
   "outputs": [],
   "source": [
    "score2 = 0\n",
    "with open('input.txt', 'r') as fid:\n",
    "    for line in fid:\n",
    "        score2 += playround(*line.strip().split())"
   ]
  },
  {
   "cell_type": "code",
   "execution_count": 2,
   "metadata": {
    "ExecuteTime": {
     "end_time": "2021-12-01T13:35:02.389653Z",
     "start_time": "2021-12-01T13:35:02.351863Z"
    }
   },
   "outputs": [],
   "source": [
    "#display(Markdown(\"Your total score will be **{}**.\".format(score2)))"
   ]
  },
  {
   "cell_type": "code",
   "execution_count": null,
   "metadata": {},
   "outputs": [],
   "source": []
  }
 ],
 "metadata": {
  "kernelspec": {
   "display_name": "Python 3 (ipykernel)",
   "language": "python",
   "name": "python3"
  },
  "language_info": {
   "codemirror_mode": {
    "name": "ipython",
    "version": 3
   },
   "file_extension": ".py",
   "mimetype": "text/x-python",
   "name": "python",
   "nbconvert_exporter": "python",
   "pygments_lexer": "ipython3",
   "version": "3.9.13"
  },
  "toc": {
   "base_numbering": 1,
   "nav_menu": {},
   "number_sections": true,
   "sideBar": true,
   "skip_h1_title": false,
   "title_cell": "Table of Contents",
   "title_sidebar": "Contents",
   "toc_cell": false,
   "toc_position": {},
   "toc_section_display": true,
   "toc_window_display": false
  }
 },
 "nbformat": 4,
 "nbformat_minor": 4
}
